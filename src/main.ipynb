{
 "cells": [
  {
   "cell_type": "code",
   "execution_count": 23,
   "metadata": {},
   "outputs": [],
   "source": [
    "import requests\n",
    "import json\n",
    "import logging\n",
    "import datetime as dt"
   ]
  },
  {
   "cell_type": "code",
   "execution_count": 24,
   "metadata": {},
   "outputs": [],
   "source": [
    "DEBUG_MESSAGES = False"
   ]
  },
  {
   "cell_type": "code",
   "execution_count": 25,
   "metadata": {},
   "outputs": [],
   "source": [
    "# Load data\n",
    "PATH = \"data.json\"\n",
    "data_file = open(PATH, \"r\")\n",
    "data_dict = json.load(data_file)\n",
    "data_file.close()"
   ]
  },
  {
   "cell_type": "code",
   "execution_count": 26,
   "metadata": {},
   "outputs": [],
   "source": [
    "# Set up variables\n",
    "API_KEY = data_dict[\"API_KEY\"]\n",
    "API_URL = data_dict[\"API_URL\"]\n",
    "REQUEST_HEADERS = {'Authorization': f'Bearer {API_KEY}'}\n",
    "\n",
    "courses_groups = data_dict[\"courses_groups\"]"
   ]
  },
  {
   "cell_type": "code",
   "execution_count": 27,
   "metadata": {},
   "outputs": [],
   "source": [
    "# All request functions\n",
    "def post_link(url, data=None):\n",
    "    response = requests.post(f'{API_URL}{url}', headers=REQUEST_HEADERS, data=data)\n",
    "\n",
    "    if response.status_code == 200:\n",
    "        return\n",
    "    print(f'Failed with status code: {response.status_code}')\n",
    "    if DEBUG_MESSAGES: \n",
    "        print(response.text)\n",
    "def put_link(url, data=None):\n",
    "    response = requests.put(f'{API_URL}{url}', headers=REQUEST_HEADERS, data=data)\n",
    "\n",
    "    if response.status_code == 200:\n",
    "        return\n",
    "    print(f'Failed with status code: {response.status_code}')\n",
    "    if DEBUG_MESSAGES: \n",
    "        print(response.text)\n",
    "def get_link(url, data=None):\n",
    "        response = requests.get(f'{API_URL}{url}', headers=REQUEST_HEADERS, data=data)\n",
    "\n",
    "        if response.status_code == 200:\n",
    "            return response.json()\n",
    "        print(f'Failed with status code: {response.status_code}')\n",
    "        if DEBUG_MESSAGES: \n",
    "            print(response.text)\n",
    "        return {}\n",
    "def delete_link(url, data=None):\n",
    "    response = requests.delete(f'{API_URL}{url}', headers=REQUEST_HEADERS, data=data)\n",
    "    \n",
    "    if response.status_code == 200:\n",
    "        return\n",
    "    print(f'Failed with status code: {response.status_code}')\n",
    "    if DEBUG_MESSAGES: \n",
    "        print(response.text)\n",
    "\n",
    "def modules_in_course(course_id):\n",
    "    response = get_link(f'/api/v1/courses/{course_id}/modules')\n",
    "    return response\n",
    "def items_in_module(course_id, module_id):\n",
    "    response = get_link(f'/api/v1/courses/{course_id}/modules/{module_id}/items')\n",
    "    return response\n",
    "\n",
    "def get_module_item(course_id, module_id, item_id):\n",
    "    response = get_link(f'/api/v1/courses/{course_id}/modules/{module_id}/items/{item_id}')\n",
    "    return response\n",
    "def post_module_item(course_id, module_id, item_data):\n",
    "    post_link(f'/api/v1/courses/{course_id}/modules/{module_id}/items', data=item_data)\n",
    "def update_module_item(course_id, module_id, item_id, item_data):\n",
    "    put_link(f'/api/v1/courses/{course_id}/modules/{module_id}/items/{item_id}', data=item_data)\n",
    "def delete_module_item(course_id, module_id, item_id):\n",
    "    delete_link(f'/api/v1/courses/{course_id}/modules/{module_id}/items/{item_id}')\n"
   ]
  },
  {
   "cell_type": "code",
   "execution_count": 28,
   "metadata": {},
   "outputs": [],
   "source": [
    "#Other Functions\n",
    "def format_module_item_data(item_dict):  # Convert 'key' to 'module_item[key]' bcs get_module_item returns 'key'\n",
    "    output_dict = {}\n",
    "    for key in item_dict.keys():\n",
    "        output_dict[f'module_item[{key}]'] = item_dict[key]\n",
    "    \n",
    "    return output_dict\n",
    "\n",
    "def name_id_list(mod_list):\n",
    "    return [mod_list['name'], mod_list['id']]\n",
    "\n",
    "def list_pairs_to_dict(list_pairs):\n",
    "    output_dict = {}\n",
    "    for pair in list_pairs:\n",
    "        output_dict[pair[0]] = output_dict[pair[1]]\n",
    "    \n",
    "    return output_dict\n",
    "\n",
    "def get_same_modules(cid_list, module_name):\n",
    "    cid_module_pairs = {}\n",
    "    for cid in map(str, cid_list):\n",
    "        modules = modules_in_course(cid)\n",
    "        list_pairs = list[map(name_id_list, modules)]\n",
    "        complete_dict = list_pairs_to_dict(list_pairs)\n",
    "        print(complete_dict)\n",
    "        try:\n",
    "            cid_module_pairs[cid] = complete_dict[module_name]\n",
    "        except:\n",
    "            cid_module_pairs[cid] = None\n",
    "    \n",
    "    return cid_module_pairs"
   ]
  },
  {
   "cell_type": "code",
   "execution_count": 29,
   "metadata": {},
   "outputs": [
    {
     "data": {
      "text/plain": [
       "[{'id': 2088967,\n",
       "  'name': 'test_module',\n",
       "  'position': 1,\n",
       "  'unlock_at': None,\n",
       "  'require_sequential_progress': False,\n",
       "  'publish_final_grade': False,\n",
       "  'prerequisite_module_ids': [],\n",
       "  'published': True,\n",
       "  'items_count': 6,\n",
       "  'items_url': 'https://k12.instructure.com/api/v1/courses/1285411/modules/2088967/items'},\n",
       " {'id': 2102617,\n",
       "  'name': 'test_module2',\n",
       "  'position': 2,\n",
       "  'unlock_at': None,\n",
       "  'require_sequential_progress': False,\n",
       "  'publish_final_grade': False,\n",
       "  'prerequisite_module_ids': [],\n",
       "  'published': True,\n",
       "  'items_count': 6,\n",
       "  'items_url': 'https://k12.instructure.com/api/v1/courses/1285411/modules/2102617/items'}]"
      ]
     },
     "execution_count": 29,
     "metadata": {},
     "output_type": "execute_result"
    }
   ],
   "source": [
    "cid = 1285411\n",
    "mods = get_same_modules()\n",
    "\n",
    "mods"
   ]
  }
 ],
 "metadata": {
  "kernelspec": {
   "display_name": ".venv",
   "language": "python",
   "name": "python3"
  },
  "language_info": {
   "codemirror_mode": {
    "name": "ipython",
    "version": 3
   },
   "file_extension": ".py",
   "mimetype": "text/x-python",
   "name": "python",
   "nbconvert_exporter": "python",
   "pygments_lexer": "ipython3",
   "version": "3.11.5"
  },
  "orig_nbformat": 4
 },
 "nbformat": 4,
 "nbformat_minor": 2
}

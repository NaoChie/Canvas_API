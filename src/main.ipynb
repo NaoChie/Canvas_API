{
 "cells": [
  {
   "cell_type": "code",
   "execution_count": 236,
   "metadata": {},
   "outputs": [],
   "source": [
    "import requests\n",
    "import json\n",
    "import datetime as dt"
   ]
  },
  {
   "cell_type": "code",
   "execution_count": 237,
   "metadata": {},
   "outputs": [],
   "source": [
    "# Set this to true to troubleshoot\n",
    "DEBUG_MESSAGES = True"
   ]
  },
  {
   "cell_type": "code",
   "execution_count": 238,
   "metadata": {},
   "outputs": [],
   "source": [
    "# Load data\n",
    "PATH = \"data.json\"\n",
    "data_file = open(PATH, \"r\")\n",
    "data_dict = json.load(data_file)\n",
    "data_file.close()"
   ]
  },
  {
   "cell_type": "code",
   "execution_count": 239,
   "metadata": {},
   "outputs": [],
   "source": [
    "# Set up variables\n",
    "API_KEY = data_dict[\"API_KEY\"]\n",
    "API_URL = data_dict[\"API_URL\"]\n",
    "REQUEST_HEADERS = {'Authorization': f'Bearer {API_KEY}'}\n",
    "\n",
    "courses_groups = data_dict[\"courses_groups\"]"
   ]
  },
  {
   "cell_type": "code",
   "execution_count": 240,
   "metadata": {},
   "outputs": [],
   "source": [
    "# All request functions\n",
    "def post_link(url, data=None):\n",
    "    response = requests.post(f'{API_URL}{url}', headers=REQUEST_HEADERS, data=data)\n",
    "\n",
    "    if response.status_code == 200:\n",
    "        return\n",
    "    if DEBUG_MESSAGES: \n",
    "        print(f'Failed with status code: {response.status_code}')\n",
    "        print(response.text)\n",
    "def put_link(url, data=None):\n",
    "    response = requests.put(f'{API_URL}{url}', headers=REQUEST_HEADERS, data=data)\n",
    "\n",
    "    if response.status_code == 200:\n",
    "        return\n",
    "    if DEBUG_MESSAGES: \n",
    "        print(f'Failed with status code: {response.status_code}')\n",
    "        print(response.text)\n",
    "def get_link(url, data=None):\n",
    "        response = requests.get(f'{API_URL}{url}', headers=REQUEST_HEADERS, data=data)\n",
    "\n",
    "        if response.status_code == 200:\n",
    "            return response.json()\n",
    "        if DEBUG_MESSAGES: \n",
    "            print(f'Failed with status code: {response.status_code}')\n",
    "            print(response.text)\n",
    "        return {}\n",
    "def delete_link(url, data=None):\n",
    "    response = requests.delete(f'{API_URL}{url}', headers=REQUEST_HEADERS, data=data)\n",
    "    \n",
    "    if response.status_code == 200:\n",
    "        return\n",
    "    if DEBUG_MESSAGES: \n",
    "        print(f'Failed with status code: {response.status_code}')\n",
    "        print(response.text)\n",
    "\n",
    "def modules_in_course(course_id):\n",
    "    response = get_link(f'/api/v1/courses/{course_id}/modules')\n",
    "    return response\n",
    "def get_module(course_id, module_id):\n",
    "    response = get_link(f'/api/v1/courses/{course_id}/modules/{module_id}')\n",
    "    return response\n",
    "def items_in_module(course_id, module_id):\n",
    "    response = get_link(f'/api/v1/courses/{course_id}/modules/{module_id}/items')\n",
    "    return response\n",
    "\n",
    "def get_module_item(course_id, module_id, item_id):\n",
    "    response = get_link(f'/api/v1/courses/{course_id}/modules/{module_id}/items/{item_id}')\n",
    "    return response\n",
    "def post_module_item(course_id, module_id, item_data):\n",
    "    post_link(f'/api/v1/courses/{course_id}/modules/{module_id}/items', data=item_data)\n",
    "def update_module_item(course_id, module_id, item_id, item_data):\n",
    "    put_link(f'/api/v1/courses/{course_id}/modules/{module_id}/items/{item_id}', data=item_data)\n",
    "def delete_module_item(course_id, module_id, item_id):\n",
    "    delete_link(f'/api/v1/courses/{course_id}/modules/{module_id}/items/{item_id}')\n"
   ]
  },
  {
   "cell_type": "code",
   "execution_count": 241,
   "metadata": {},
   "outputs": [],
   "source": [
    "# Module Functions\n",
    "def format_module_item_data(item_dict):  # Convert 'key' to 'module_item[key]' bcs get_module_item returns 'key' when api wants 'module_item[key]'\n",
    "    output_dict = {}\n",
    "    for key in item_dict.keys():\n",
    "        output_dict[f'module_item[{key}]'] = item_dict[key]\n",
    "    \n",
    "    return output_dict\n",
    "\n",
    "def name_id_list(mod_list):  #[module_name, module_id]\n",
    "    return [mod_list['name'], mod_list['id']]\n",
    "\n",
    "def list_pairs_to_dict(list_pairs): #[[name_1, id_1], [name_2, id_2], ...] to {name_1 : id_1, name_2 : id_2, ...}\n",
    "    output_dict = {}\n",
    "    for pair in list_pairs:\n",
    "        if pair[0] in output_dict.keys():  # Check if module is already added\n",
    "            if DEBUG_MESSAGES:\n",
    "                print(f\"Error: Duplicated module: {list_pairs}. Overriding.\")\n",
    "        \n",
    "        output_dict[str(pair[0])] = str(pair[1])\n",
    "    \n",
    "    return output_dict\n",
    "\n",
    "def modules_name_id_dict(course_id):\n",
    "    modules = modules_in_course(course_id)\n",
    "    list_pairs = list(map(name_id_list, modules))\n",
    "    dict_pairs = list_pairs_to_dict(list_pairs)\n",
    "    return dict_pairs\n",
    "\n",
    "def get_same_modules(cid_list, module_name):\n",
    "    cid_module_pairs = {}\n",
    "    for cid in map(str, cid_list):\n",
    "        # Dictionary of {module_name : module_id}\n",
    "        dict_pairs = modules_name_id_dict(cid)\n",
    "        try:\n",
    "            cid_module_pairs[cid] = dict_pairs[module_name]\n",
    "        except KeyError:\n",
    "            if DEBUG_MESSAGES:\n",
    "                print(f\"Warning: Module named {module_name} not found in course {cid}. It will be skipped when posted.\")\n",
    "            cid_module_pairs[cid] = None\n",
    "    \n",
    "    return cid_module_pairs"
   ]
  },
  {
   "cell_type": "code",
   "execution_count": 244,
   "metadata": {},
   "outputs": [],
   "source": [
    "# The functions that do things to courses\n",
    "def post_to_course_group(id_list, course_group):  # [course_id, module_id, item_id]\n",
    "    # Variables\n",
    "    main_course_id,main_module_id,main_item_id = id_list\n",
    "    module_name = str(get_module(main_course_id, main_module_id)['name'])\n",
    "\n",
    "    upload_modules = get_same_modules(course_group, module_name)\n",
    "\n",
    "    item_data = get_module_item(main_course_id, main_module_id, main_item_id)\n",
    "    item_data = format_module_item_data(item_data)\n",
    "\n",
    "    for course_id in course_group:\n",
    "        if upload_modules[course_id] == None:\n",
    "            continue\n",
    "\n",
    "        post_module_item(course_id, upload_modules[course_id], item_data)\n",
    "    \n",
    "    return\n",
    "        "
   ]
  },
  {
   "cell_type": "code",
   "execution_count": null,
   "metadata": {},
   "outputs": [],
   "source": [
    "# The functions that get input\n",
    "def return_selected_id(name_id_pairs, )"
   ]
  },
  {
   "cell_type": "code",
   "execution_count": 248,
   "metadata": {},
   "outputs": [],
   "source": [
    "# id_list = [1285411, 2133759, 14823229]\n",
    "id_list = [1285411, 2133760, 14823234]\n",
    "course_group = courses_groups['aday']\n",
    "\n",
    "post_to_course_group(id_list, course_group)"
   ]
  }
 ],
 "metadata": {
  "kernelspec": {
   "display_name": ".venv",
   "language": "python",
   "name": "python3"
  },
  "language_info": {
   "codemirror_mode": {
    "name": "ipython",
    "version": 3
   },
   "file_extension": ".py",
   "mimetype": "text/x-python",
   "name": "python",
   "nbconvert_exporter": "python",
   "pygments_lexer": "ipython3",
   "version": "3.11.5"
  },
  "orig_nbformat": 4
 },
 "nbformat": 4,
 "nbformat_minor": 2
}

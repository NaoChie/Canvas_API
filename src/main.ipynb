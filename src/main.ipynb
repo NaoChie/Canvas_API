{
 "cells": [
  {
   "cell_type": "code",
   "execution_count": 13,
   "metadata": {},
   "outputs": [],
   "source": [
    "!pip3 install canvasapi\n",
    "!pip3 install pyinstaller"
   ]
  },
  {
   "cell_type": "code",
   "execution_count": 12,
   "metadata": {},
   "outputs": [],
   "source": [
    "import canvasapi"
   ]
  },
  {
   "cell_type": "code",
   "execution_count": 11,
   "metadata": {},
   "outputs": [],
   "source": [
    "API_TOKEN = \"6936~sfusmUWOeQdmhxPUkpd0emeG0laShQCJZkRG2R86DzJUf2gfvVOQwrxCz9TZp83f\"  # pls don't hack me \n",
    "API_URL = \"https://k12.instructure.com/\""
   ]
  },
  {
   "cell_type": "code",
   "execution_count": 15,
   "metadata": {},
   "outputs": [],
   "source": [
    "canvas = canvasapi.Canvas(API_URL, API_TOKEN)"
   ]
  },
  {
   "cell_type": "code",
   "execution_count": 16,
   "metadata": {},
   "outputs": [
    {
     "ename": "AttributeError",
     "evalue": "'Canvas' object has no attribute 'get_assignments'",
     "output_type": "error",
     "traceback": [
      "\u001b[0;31m---------------------------------------------------------------------------\u001b[0m",
      "\u001b[0;31mAttributeError\u001b[0m                            Traceback (most recent call last)",
      "Cell \u001b[0;32mIn[16], line 1\u001b[0m\n\u001b[0;32m----> 1\u001b[0m assignments \u001b[39m=\u001b[39m canvas\u001b[39m.\u001b[39;49mget_assignments()\n\u001b[1;32m      3\u001b[0m \u001b[39mfor\u001b[39;00m assignment \u001b[39min\u001b[39;00m assignments:\n\u001b[1;32m      4\u001b[0m     \u001b[39mprint\u001b[39m(assignment)\n",
      "\u001b[0;31mAttributeError\u001b[0m: 'Canvas' object has no attribute 'get_assignments'"
     ]
    }
   ],
   "source": [
    "assignments = canvas.get_assignments()\n",
    "\n",
    "for assignment in assignments:\n",
    "    print(assignment)"
   ]
  }
 ],
 "metadata": {
  "kernelspec": {
   "display_name": ".venv",
   "language": "python",
   "name": "python3"
  },
  "language_info": {
   "codemirror_mode": {
    "name": "ipython",
    "version": 3
   },
   "file_extension": ".py",
   "mimetype": "text/x-python",
   "name": "python",
   "nbconvert_exporter": "python",
   "pygments_lexer": "ipython3",
   "version": "3.11.5"
  },
  "orig_nbformat": 4
 },
 "nbformat": 4,
 "nbformat_minor": 2
}
